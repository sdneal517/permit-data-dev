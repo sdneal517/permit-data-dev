{
 "cells": [
  {
   "cell_type": "code",
   "execution_count": 1,
   "id": "d96ca33a-c4b3-4aef-a4dc-0e7934995163",
   "metadata": {},
   "outputs": [],
   "source": [
    "import sqlite3\n",
    "import pandas as pd\n",
    "from pathlib import Path\n",
    "\n",
    "# Project paths\n",
    "PROJECT_ROOT = Path(r\"C:\\Users\\sdnea\\Dev\\permit-data-dev\")\n",
    "BRONZE_PATH = PROJECT_ROOT / \"bronze\"\n",
    "DB_PATH = PROJECT_ROOT / \"permit_data.db\"\n"
   ]
  },
  {
   "cell_type": "code",
   "execution_count": 2,
   "id": "17c12fc1-4ff0-4904-99c6-34aa42963000",
   "metadata": {},
   "outputs": [],
   "source": [
    "# Connect (creates file if it doesn't exist)\n",
    "conn = sqlite3.connect(DB_PATH)\n"
   ]
  },
  {
   "cell_type": "code",
   "execution_count": 3,
   "id": "6279bdf7-7c9b-48d2-a57e-a64396b60671",
   "metadata": {},
   "outputs": [],
   "source": [
    "def load_to_sqlite(file_path: Path, table_name: str, conn):\n",
    "    \"\"\"Load Excel or CSV into SQLite as a table.\"\"\"\n",
    "    if file_path.suffix.lower() == \".csv\":\n",
    "        df = pd.read_csv(file_path)\n",
    "    elif file_path.suffix.lower() in [\".xls\", \".xlsx\"]:\n",
    "        df = pd.read_excel(file_path)\n",
    "    else:\n",
    "        raise ValueError(f\"Unsupported file type: {file_path.suffix}\")\n",
    "    \n",
    "    df.to_sql(table_name, conn, if_exists=\"replace\", index=False)\n",
    "    print(f\"✅ Loaded {file_path.name} → {table_name} ({len(df)} rows)\")\n"
   ]
  },
  {
   "cell_type": "code",
   "execution_count": 6,
   "id": "a45060c4-145c-4bbc-904f-20cd03015864",
   "metadata": {},
   "outputs": [
    {
     "name": "stdout",
     "output_type": "stream",
     "text": [
      "✅ Loaded 2023 Building Permits.csv → permits_2023_bronze (503 rows)\n",
      "✅ Loaded 2024 Building Permits.csv → permits_2024_bronze (1411 rows)\n",
      "✅ Loaded 2025 Building Permits.csv → permits_2025_bronze (1124 rows)\n"
     ]
    }
   ],
   "source": [
    "files = {\n",
    "    \"permits_2023_bronze\": BRONZE_PATH / \"2023 Building Permits.csv\",\n",
    "    \"permits_2024_bronze\": BRONZE_PATH / \"2024 Building Permits.csv\",\n",
    "    \"permits_2025_bronze\": BRONZE_PATH / \"2025 Building Permits.csv\",\n",
    "}\n",
    "\n",
    "for table, path in files.items():\n",
    "    load_to_sqlite(path, table, conn)\n"
   ]
  },
  {
   "cell_type": "code",
   "execution_count": 7,
   "id": "d80e34f1-9a1e-4820-b69e-a29a0e4efddb",
   "metadata": {},
   "outputs": [
    {
     "name": "stdout",
     "output_type": "stream",
     "text": [
      "permits_2023_bronze: 503 rows\n",
      "permits_2024_bronze: 1411 rows\n",
      "permits_2025_bronze: 1124 rows\n"
     ]
    }
   ],
   "source": [
    "for table in files.keys():\n",
    "    rows = conn.execute(f\"SELECT COUNT(*) FROM {table}\").fetchone()[0]\n",
    "    print(f\"{table}: {rows} rows\")\n"
   ]
  },
  {
   "cell_type": "code",
   "execution_count": 8,
   "id": "2455f7a1-2847-49a3-97e6-b3f9deea6e62",
   "metadata": {},
   "outputs": [],
   "source": [
    "conn.close()\n"
   ]
  },
  {
   "cell_type": "code",
   "execution_count": null,
   "id": "ff9a0178-0cd8-4dae-9145-9f71b31b658a",
   "metadata": {},
   "outputs": [],
   "source": []
  }
 ],
 "metadata": {
  "kernelspec": {
   "display_name": "Python 3 (ipykernel)",
   "language": "python",
   "name": "python3"
  },
  "language_info": {
   "codemirror_mode": {
    "name": "ipython",
    "version": 3
   },
   "file_extension": ".py",
   "mimetype": "text/x-python",
   "name": "python",
   "nbconvert_exporter": "python",
   "pygments_lexer": "ipython3",
   "version": "3.11.5"
  }
 },
 "nbformat": 4,
 "nbformat_minor": 5
}
