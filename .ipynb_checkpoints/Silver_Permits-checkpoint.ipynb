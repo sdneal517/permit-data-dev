{
 "cells": [
  {
   "cell_type": "code",
   "execution_count": 1,
   "id": "39414193-f2c1-4548-b6ae-4a64114a05b3",
   "metadata": {},
   "outputs": [],
   "source": [
    "import sqlite3\n",
    "import pandas as pd\n",
    "from pathlib import Path\n",
    "\n",
    "# Paths\n",
    "PROJECT_ROOT = Path(r\"C:\\Users\\sdnea\\Dev\\permit-data-dev\")\n",
    "DB_PATH = PROJECT_ROOT / \"permit_data.db\"\n",
    "\n",
    "# Connect\n",
    "conn = sqlite3.connect(DB_PATH)\n"
   ]
  },
  {
   "cell_type": "code",
   "execution_count": 13,
   "id": "88468a93-8bee-4209-b57a-4f744fb41f27",
   "metadata": {},
   "outputs": [
    {
     "name": "stdout",
     "output_type": "stream",
     "text": [
      "permits_2024_bronze: 1411 rows, 10 cols\n",
      "permits_2025_bronze: 1124 rows, 10 cols\n"
     ]
    }
   ],
   "source": [
    "bronze_tables = [\"permits_2024_bronze\", \"permits_2025_bronze\"]\n",
    "\n",
    "dfs = {}\n",
    "for table in bronze_tables:\n",
    "    dfs[table] = pd.read_sql(f\"SELECT * FROM {table}\", conn)\n",
    "    print(f\"{table}: {dfs[table].shape[0]} rows, {dfs[table].shape[1]} cols\")\n"
   ]
  },
  {
   "cell_type": "code",
   "execution_count": null,
   "id": "fcda5d3d-cf16-482b-b523-4026b0035387",
   "metadata": {},
   "outputs": [],
   "source": []
  }
 ],
 "metadata": {
  "kernelspec": {
   "display_name": "Python 3 (ipykernel)",
   "language": "python",
   "name": "python3"
  },
  "language_info": {
   "codemirror_mode": {
    "name": "ipython",
    "version": 3
   },
   "file_extension": ".py",
   "mimetype": "text/x-python",
   "name": "python",
   "nbconvert_exporter": "python",
   "pygments_lexer": "ipython3",
   "version": "3.11.5"
  }
 },
 "nbformat": 4,
 "nbformat_minor": 5
}
